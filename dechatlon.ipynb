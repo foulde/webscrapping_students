{
 "cells": [
  {
   "cell_type": "code",
   "execution_count": null,
   "metadata": {},
   "outputs": [
    {
     "name": "stdout",
     "output_type": "stream",
     "text": [
      "Failed to retrieve the webpage\n",
      "Data successfully written to decathlon_promotions.csv\n"
     ]
    },
    {
     "ename": "",
     "evalue": "",
     "output_type": "error",
     "traceback": [
      "\u001b[1;31mThe Kernel crashed while executing code in the the current cell or a previous cell. Please review the code in the cell(s) to identify a possible cause of the failure. Click <a href='https://aka.ms/vscodeJupyterKernelCrash'>here</a> for more info. View Jupyter <a href='command:jupyter.viewOutput'>log</a> for further details."
     ]
    }
   ],
   "source": [
    "import requests\n",
    "from bs4 import BeautifulSoup\n",
    "import csv\n",
    "\n",
    "url = 'https://www.decathlon.fr/deals-page/_/N-7d8dux'  # Replace with the actual URL\n",
    "\n",
    "response = requests.get(url)\n",
    "if response.status_code != 200:\n",
    "    print('Failed to retrieve the webpage')\n",
    "    exit()\n",
    "\n",
    "soup = BeautifulSoup(response.text, 'html.parser')\n",
    "\n",
    "# Find all products\n",
    "# products = soup.find_all('div', class_='dkt-product__infos__link')\n",
    "products = soup.find_all('div', class_='product-list')\n",
    "\n",
    "\n",
    "# Create a CSV file\n",
    "with open('decathlon_promotions2.csv', 'w', newline='', encoding='utf-8') as file:\n",
    "    writer = csv.writer(file)\n",
    "    writer.writerow(['Product Name', 'Original Price (€)', 'Promotional Price (€)', 'Discount Percentage'])\n",
    "\n",
    "    for product in products:\n",
    "        product_name = product.text.strip()\n",
    "        price_info = product.find_next_sibling('div', class_='dkt-price dkt-price--promo')\n",
    "        # price_info = product.find_next_sibling(\"div\", class_=\"dkt-product js-product-slider-init\")\n",
    "        \n",
    "        \n",
    "        if price_info:\n",
    "            original_price = price_info.find('span', class_='dkt-price__previous-price').text.strip().replace('€', '')\n",
    "            promotional_price = price_info.find('div', class_='dkt-price__cartridge').text.strip().replace('€', '')\n",
    "            discount_percentage = price_info.find('span', class_='dkt-price__reduction').text.strip()\n",
    "\n",
    "            writer.writerow([product_name, original_price, promotional_price, discount_percentage])\n",
    "\n",
    "print('Data successfully written to decathlon_promotions.csv')\n"
   ]
  },
  {
   "cell_type": "code",
   "execution_count": 1,
   "metadata": {},
   "outputs": [
    {
     "name": "stdout",
     "output_type": "stream",
     "text": [
      "Failed to retrieve the webpage\n",
      "Data successfully written to decathlon_promotions.csv\n"
     ]
    },
    {
     "ename": "",
     "evalue": "",
     "output_type": "error",
     "traceback": [
      "\u001b[1;31mThe Kernel crashed while executing code in the the current cell or a previous cell. Please review the code in the cell(s) to identify a possible cause of the failure. Click <a href='https://aka.ms/vscodeJupyterKernelCrash'>here</a> for more info. View Jupyter <a href='command:jupyter.viewOutput'>log</a> for further details."
     ]
    }
   ],
   "source": [
    "import requests\n",
    "from bs4 import BeautifulSoup\n",
    "import csv\n",
    "\n",
    "url = 'https://www.decathlon.fr/deals-page/_/N-7d8dux'  # Replace with the actual URL\n",
    "\n",
    "response = requests.get(url)\n",
    "if response.status_code != 200:\n",
    "    print('Failed to retrieve the webpage')\n",
    "    exit()\n",
    "\n",
    "soup = BeautifulSoup(response.text, 'html.parser')\n",
    "\n",
    "# Find all products\n",
    "# products = soup.find_all('div', class_='dkt-product__infos__link')\n",
    "products = soup.find_all('div', class_='product-list')\n",
    "\n",
    "\n",
    "# Create a CSV file\n",
    "with open('decathlon_promotions2.csv', 'w', newline='', encoding='utf-8') as file:\n",
    "    writer = csv.writer(file)\n",
    "    writer.writerow(['Product Name', 'Original Price (€)', 'Promotional Price (€)', 'Discount Percentage'])\n",
    "\n",
    "    for product in products:\n",
    "        product_name = product.text.strip()\n",
    "        price_info = product.find_next_sibling('div', class_='dkt-price dkt-price--promo')\n",
    "        # price_info = product.find_next_sibling(\"div\", class_=\"dkt-product js-product-slider-init\")\n",
    "        \n",
    "        \n",
    "        if price_info:\n",
    "            original_price = price_info.find('span', class_='dkt-price__previous-price').text.strip().replace('€', '')\n",
    "            promotional_price = price_info.find('div', class_='dkt-price__cartridge').text.strip().replace('€', '')\n",
    "            discount_percentage = price_info.find('span', class_='dkt-price__reduction').text.strip()\n",
    "\n",
    "            writer.writerow([product_name, original_price, promotional_price, discount_percentage])\n",
    "\n",
    "print('Data successfully written to decathlon_promotions.csv')\n"
   ]
  }
 ],
 "metadata": {
  "kernelspec": {
   "display_name": "Python 3",
   "language": "python",
   "name": "python3"
  },
  "language_info": {
   "codemirror_mode": {
    "name": "ipython",
    "version": 3
   },
   "file_extension": ".py",
   "mimetype": "text/x-python",
   "name": "python",
   "nbconvert_exporter": "python",
   "pygments_lexer": "ipython3",
   "version": "3.10.7"
  }
 },
 "nbformat": 4,
 "nbformat_minor": 2
}
