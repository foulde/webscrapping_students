{
 "cells": [
  {
   "cell_type": "code",
   "execution_count": 1,
   "metadata": {},
   "outputs": [
    {
     "name": "stderr",
     "output_type": "stream",
     "text": [
      "C:\\Users\\hugod\\AppData\\Local\\Temp\\ipykernel_23988\\1737070453.py:10: DeprecationWarning: executable_path has been deprecated, please pass in a Service object\n",
      "  driver = webdriver.Chrome(driver_path)\n"
     ]
    },
    {
     "name": "stdout",
     "output_type": "stream",
     "text": [
      "Data successfully written to decathlon_promotions.csv\n"
     ]
    }
   ],
   "source": [
    "from selenium import webdriver\n",
    "from selenium.webdriver.common.by import By\n",
    "from selenium.webdriver.common.keys import Keys\n",
    "import time\n",
    "import csv\n",
    "from bs4 import BeautifulSoup\n",
    "\n",
    "# Set up the Selenium WebDriver\n",
    "driver_path = 'C:/Users/hugod/AppData/Local/Programs/Python/Python310/chromedriver.exe'\n",
    "driver = webdriver.Chrome(driver_path)\n",
    "\n",
    "# driver = webdriver.Chrome('path/to/chromedriver')  # Adjust the path to your chromedriver\n",
    "url = 'https://www.decathlon.fr/deals-page/_/N-7d8dux'\n",
    "\n",
    "driver.get(url)\n",
    "time.sleep(6)  # Wait for the page to load\n",
    "\n",
    "# Scroll if needed\n",
    "driver.find_element(By.TAG_NAME, 'body').send_keys(Keys.END)\n",
    "time.sleep(3)\n",
    "\n",
    "# Now parse the page with BeautifulSoup\n",
    "soup = BeautifulSoup(driver.page_source, 'html.parser')\n",
    "driver.quit()\n",
    "\n",
    "products = soup.find_all('div', class_='dkt-product__infos__link')\n",
    "\n",
    "with open('decathlon_promotions.csv', 'w', newline='', encoding='utf-8') as file:\n",
    "    writer = csv.writer(file)\n",
    "    writer.writerow(['Product Name', 'Original Price (€)', 'Promotional Price (€)', 'Discount Percentage'])\n",
    "\n",
    "    # for product in products:\n",
    "    #     # Your extraction logic here\n",
    "\n",
    "    for product in products:\n",
    "        product_name = product.text.strip()\n",
    "        # price_info = product.find_next_sibling('div', class_='dkt-price dkt-price--promo')\n",
    "        price_info = product.find_next_sibling(\"div\", class_=\"dkt-product js-product-slider-init\")\n",
    "        \n",
    "        \n",
    "        if price_info:\n",
    "            original_price = price_info.find('span', class_='dkt-price__previous-price').text.strip().replace('€', '')\n",
    "            promotional_price = price_info.find('div', class_='dkt-price__cartridge').text.strip().replace('€', '')\n",
    "            discount_percentage = price_info.find('span', class_='dkt-price__reduction').text.strip()\n",
    "\n",
    "            writer.writerow([product_name, original_price, promotional_price, discount_percentage])\n",
    "\n",
    "\n",
    "print('Data successfully written to decathlon_promotions.csv')\n"
   ]
  }
 ],
 "metadata": {
  "kernelspec": {
   "display_name": "Python 3",
   "language": "python",
   "name": "python3"
  },
  "language_info": {
   "codemirror_mode": {
    "name": "ipython",
    "version": 3
   },
   "file_extension": ".py",
   "mimetype": "text/x-python",
   "name": "python",
   "nbconvert_exporter": "python",
   "pygments_lexer": "ipython3",
   "version": "3.10.7"
  }
 },
 "nbformat": 4,
 "nbformat_minor": 2
}
