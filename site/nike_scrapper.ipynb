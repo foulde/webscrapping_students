{
 "cells": [
  {
   "cell_type": "code",
   "execution_count": 3,
   "metadata": {},
   "outputs": [
    {
     "name": "stdout",
     "output_type": "stream",
     "text": [
      "Data successfully written to nike_promotions.csv\n"
     ]
    }
   ],
   "source": [
    "import requests\n",
    "from bs4 import BeautifulSoup\n",
    "import csv\n",
    "\n",
    "url = 'https://www.nike.com/fr/w/promotions-3yaep'\n",
    "\n",
    "response = requests.get(url)\n",
    "if response.status_code != 200:\n",
    "    print('Failed to retrieve the webpage')\n",
    "    exit()\n",
    "\n",
    "soup = BeautifulSoup(response.text, 'html.parser')\n",
    "\n",
    "# Find all product cards\n",
    "product_cards = soup.find_all('div', class_='product-card__body')\n",
    "\n",
    "# Create a CSV file\n",
    "with open('nike_promotions.csv', 'w', newline='', encoding='utf-8') as file:\n",
    "    writer = csv.writer(file)\n",
    "    writer.writerow(['Product Name', 'Original Price (€)', 'Current Price (€)', 'Promotion Percentage'])\n",
    "\n",
    "    for card in product_cards:\n",
    "        product_name = card.find('div', class_='product-card__title').text.strip()\n",
    "        current_price = card.find('div', class_='product-price is--current-price css-1ydfahe').text.strip().replace('€', '').replace(',', '.')\n",
    "        original_price = card.find('div', class_='product-price fr__styling is--striked-out css-0').text.strip().replace('€', '').replace(',', '.')\n",
    "        \n",
    "        # Calculate promotion percentage\n",
    "        try:\n",
    "            current_price = float(current_price)\n",
    "            original_price = float(original_price)\n",
    "            promotion_percentage = ((original_price - current_price) / original_price) * 100\n",
    "        except ValueError:\n",
    "            # If there's an issue with parsing prices, skip this product\n",
    "            continue\n",
    "\n",
    "        writer.writerow([product_name, original_price, current_price, f'{promotion_percentage:.2f}%'])\n",
    "\n",
    "print('Data successfully written to nike_promotions.csv')\n"
   ]
  }
 ],
 "metadata": {
  "kernelspec": {
   "display_name": "Python 3",
   "language": "python",
   "name": "python3"
  },
  "language_info": {
   "codemirror_mode": {
    "name": "ipython",
    "version": 3
   },
   "file_extension": ".py",
   "mimetype": "text/x-python",
   "name": "python",
   "nbconvert_exporter": "python",
   "pygments_lexer": "ipython3",
   "version": "3.10.7"
  }
 },
 "nbformat": 4,
 "nbformat_minor": 2
}
