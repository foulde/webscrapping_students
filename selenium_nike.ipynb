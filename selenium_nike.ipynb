{
 "cells": [
  {
   "cell_type": "code",
   "execution_count": 2,
   "metadata": {},
   "outputs": [
    {
     "name": "stderr",
     "output_type": "stream",
     "text": [
      "C:\\Users\\hugod\\AppData\\Local\\Temp\\ipykernel_3680\\1765395710.py:11: DeprecationWarning: executable_path has been deprecated, please pass in a Service object\n",
      "  driver = webdriver.Chrome(driver_path)\n"
     ]
    },
    {
     "name": "stdout",
     "output_type": "stream",
     "text": [
      "Data successfully written to nike_promotions.csv\n"
     ]
    }
   ],
   "source": [
    "from selenium import webdriver\n",
    "from selenium.webdriver.common.by import By\n",
    "from selenium.webdriver.common.keys import Keys\n",
    "import time\n",
    "import csv\n",
    "from bs4 import BeautifulSoup\n",
    "\n",
    "# Set up the Selenium WebDriver\n",
    "# Replace 'path/to/chromedriver' with the actual path to your downloaded ChromeDriver\n",
    "driver_path = 'C:/Users/hugod/AppData/Local/Programs/Python/Python310/chromedriver.exe'\n",
    "driver = webdriver.Chrome(driver_path)\n",
    "\n",
    "url = 'https://www.nike.com/fr/w/promotions-3yaep'\n",
    "driver.get(url)\n",
    "\n",
    "# Wait for the dynamic content to load\n",
    "time.sleep(5)\n",
    "\n",
    "# Scroll down to load more products\n",
    "# You may need to adjust the range and sleep time based on the page's loading behavior\n",
    "for i in range(10):  # Scrolls 10 times\n",
    "    driver.find_element(By.TAG_NAME, 'body').send_keys(Keys.END)\n",
    "    time.sleep(2)  # Wait for the page to load\n",
    "\n",
    "# Now that the page is loaded, parse the HTML with BeautifulSoup\n",
    "soup = BeautifulSoup(driver.page_source, 'html.parser')\n",
    "driver.quit()\n",
    "\n",
    "product_cards = soup.find_all('div', class_='product-card__body')\n",
    "\n",
    "# Write to CSV\n",
    "with open('nike_promotions.csv', 'w', newline='', encoding='utf-8') as file:\n",
    "    writer = csv.writer(file)\n",
    "    writer.writerow(['Product Name', 'Original Price (€)', 'Current Price (€)', 'Promotion Percentage'])\n",
    "\n",
    "    # for card in product_cards:\n",
    "    #     # ... (your scraping logic here)\n",
    "\n",
    "    for card in product_cards:\n",
    "        product_name = card.find('div', class_='product-card__title').text.strip()\n",
    "        current_price = card.find('div', class_='product-price is--current-price css-1ydfahe').text.strip().replace('€', '').replace(',', '.')\n",
    "        original_price = card.find('div', class_='product-price fr__styling is--striked-out css-0').text.strip().replace('€', '').replace(',', '.')\n",
    "        \n",
    "        # Calculate promotion percentage\n",
    "        try:\n",
    "            current_price = float(current_price)\n",
    "            original_price = float(original_price)\n",
    "            promotion_percentage = ((original_price - current_price) / original_price) * 100\n",
    "        except ValueError:\n",
    "            # If there's an issue with parsing prices, skip this product\n",
    "            continue\n",
    "\n",
    "        writer.writerow([product_name, original_price, current_price, f'{promotion_percentage:.2f}%'])\n",
    "\n",
    "\n",
    "print('Data successfully written to nike_promotions.csv')\n"
   ]
  }
 ],
 "metadata": {
  "kernelspec": {
   "display_name": "Python 3",
   "language": "python",
   "name": "python3"
  },
  "language_info": {
   "codemirror_mode": {
    "name": "ipython",
    "version": 3
   },
   "file_extension": ".py",
   "mimetype": "text/x-python",
   "name": "python",
   "nbconvert_exporter": "python",
   "pygments_lexer": "ipython3",
   "version": "3.10.7"
  }
 },
 "nbformat": 4,
 "nbformat_minor": 2
}
